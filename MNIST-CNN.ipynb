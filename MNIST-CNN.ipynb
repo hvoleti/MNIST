{
 "cells": [
  {
   "cell_type": "code",
   "execution_count": 1,
   "id": "92a15aca",
   "metadata": {},
   "outputs": [],
   "source": [
    "import torch\n",
    "import torch.nn as nn\n",
    "import torch.nn.functional as F\n",
    "from torchvision import datasets,transforms\n",
    "from torch.utils.data import DataLoader\n",
    "from torchvision.utils import make_grid\n",
    "\n",
    "\n",
    "import numpy as np\n",
    "import pandas as pd\n",
    "import matplotlib.pyplot as plt\n",
    "%matplotlib inline"
   ]
  },
  {
   "cell_type": "code",
   "execution_count": 2,
   "id": "c01e78d2",
   "metadata": {},
   "outputs": [],
   "source": [
    "transform = transforms.ToTensor()"
   ]
  },
  {
   "cell_type": "code",
   "execution_count": 3,
   "id": "da0b0e73",
   "metadata": {},
   "outputs": [
    {
     "name": "stderr",
     "output_type": "stream",
     "text": [
      "C:\\Users\\harsh\\anaconda3\\envs\\pytorchenv\\lib\\site-packages\\torchvision\\datasets\\mnist.py:498: UserWarning: The given NumPy array is not writeable, and PyTorch does not support non-writeable tensors. This means you can write to the underlying (supposedly non-writeable) NumPy array using the tensor. You may want to copy the array to protect its data or make it writeable before converting it to a tensor. This type of warning will be suppressed for the rest of this program. (Triggered internally at  ..\\torch\\csrc\\utils\\tensor_numpy.cpp:180.)\n",
      "  return torch.from_numpy(parsed.astype(m[2], copy=False)).view(*s)\n"
     ]
    }
   ],
   "source": [
    "train_data = datasets.MNIST(root='../Data',train=True,download=True,transform=transform)\n",
    "test_data = datasets.MNIST(root='../Data',train=False,download=True,transform=transform)"
   ]
  },
  {
   "cell_type": "code",
   "execution_count": 4,
   "id": "e3e34476",
   "metadata": {},
   "outputs": [
    {
     "data": {
      "text/plain": [
       "Dataset MNIST\n",
       "    Number of datapoints: 60000\n",
       "    Root location: ../Data\n",
       "    Split: Train\n",
       "    StandardTransform\n",
       "Transform: ToTensor()"
      ]
     },
     "execution_count": 4,
     "metadata": {},
     "output_type": "execute_result"
    }
   ],
   "source": [
    "train_data"
   ]
  },
  {
   "cell_type": "code",
   "execution_count": 5,
   "id": "396d73fb",
   "metadata": {},
   "outputs": [
    {
     "data": {
      "text/plain": [
       "Dataset MNIST\n",
       "    Number of datapoints: 10000\n",
       "    Root location: ../Data\n",
       "    Split: Test\n",
       "    StandardTransform\n",
       "Transform: ToTensor()"
      ]
     },
     "execution_count": 5,
     "metadata": {},
     "output_type": "execute_result"
    }
   ],
   "source": [
    "test_data"
   ]
  },
  {
   "cell_type": "code",
   "execution_count": 6,
   "id": "e452bff6",
   "metadata": {},
   "outputs": [],
   "source": [
    "#Loading in batches\n",
    "train_loader = DataLoader(train_data,batch_size=10,shuffle=True)\n",
    "test_loader = DataLoader(test_data,batch_size=10,shuffle=False)"
   ]
  },
  {
   "cell_type": "markdown",
   "id": "bc843075",
   "metadata": {},
   "source": [
    "### BREAKING DOWN CONVOLUTIONAL LAYERS FOR ILLUSTRATION ( FOR BEGINNERS)"
   ]
  },
  {
   "cell_type": "code",
   "execution_count": 7,
   "id": "5ce89d53",
   "metadata": {},
   "outputs": [
    {
     "name": "stdout",
     "output_type": "stream",
     "text": [
      "torch.Size([1, 1, 28, 28])\n",
      "After 1st Convolution , shape is: torch.Size([1, 6, 26, 26])\n",
      "After Max Pooling, Shape is: torch.Size([1, 6, 13, 13])\n",
      "After 2st Convolution , shape is: torch.Size([1, 16, 11, 11])\n",
      "After Max Pooling, Shape is: torch.Size([1, 16, 5, 5])\n"
     ]
    }
   ],
   "source": [
    "# Define layers\n",
    "\n",
    "conv1 = nn.Conv2d(1,6,3,1)\n",
    "conv2 = nn.Conv2d(6,16,3,1)\n",
    "\n",
    "#First MNIST RECORD\n",
    "\n",
    "for i,(X_train,y_train) in enumerate(train_data):\n",
    "    break\n",
    "    \n",
    "x = X_train.view(1,1,28,28)\n",
    "print(x.shape)\n",
    "\n",
    "#Perform first convolution/activation\n",
    "x = F.relu(conv1(x))\n",
    "print(f'After 1st Convolution , shape is: {x.shape}')\n",
    "\n",
    "#Perform first max pooling\n",
    "x = F.max_pool2d(x,2,2)\n",
    "print(f'After Max Pooling, Shape is: {x.shape}')\n",
    "\n",
    "#Perform second convolution/activation\n",
    "x = F.relu(conv2(x))\n",
    "print(f'After 2st Convolution , shape is: {x.shape}')\n",
    "\n",
    "#Perform second max pooling\n",
    "x = F.max_pool2d(x,2,2)\n",
    "print(f'After Max Pooling, Shape is: {x.shape}')"
   ]
  },
  {
   "cell_type": "markdown",
   "id": "767057de",
   "metadata": {},
   "source": [
    "### Defining a convolutional model"
   ]
  },
  {
   "cell_type": "code",
   "execution_count": 8,
   "id": "d93c6df4",
   "metadata": {},
   "outputs": [],
   "source": [
    "class ConvolutionalNetwork(nn.Module):\n",
    "    def __init__(self):\n",
    "        super().__init__()\n",
    "        self.conv1 = nn.Conv2d(1,6,3,1)\n",
    "        self.conv2= nn.Conv2d(6,16,3,1)\n",
    "        self.fc1 = nn.Linear(5*5*16,120)\n",
    "        self.fc2= nn.Linear(120,84)\n",
    "        self.fc3 = nn.Linear(84,10)\n",
    "        \n",
    "    def forward(self,X):\n",
    "        X = F.relu(self.conv1(X))\n",
    "        X = F.max_pool2d(X,2,2)\n",
    "        \n",
    "        X = F.relu(self.conv2(X))\n",
    "        X = F.max_pool2d(X,2,2)\n",
    "        \n",
    "        X = X.view(-1,5*5*16)\n",
    "        X = F.relu(self.fc1(X))\n",
    "        X = F.relu(self.fc2(X))\n",
    "        X = self.fc3(X)\n",
    "        return F.log_softmax(X, dim=1)"
   ]
  },
  {
   "cell_type": "code",
   "execution_count": 9,
   "id": "aef339c5",
   "metadata": {},
   "outputs": [
    {
     "data": {
      "text/plain": [
       "ConvolutionalNetwork(\n",
       "  (conv1): Conv2d(1, 6, kernel_size=(3, 3), stride=(1, 1))\n",
       "  (conv2): Conv2d(6, 16, kernel_size=(3, 3), stride=(1, 1))\n",
       "  (fc1): Linear(in_features=400, out_features=120, bias=True)\n",
       "  (fc2): Linear(in_features=120, out_features=84, bias=True)\n",
       "  (fc3): Linear(in_features=84, out_features=10, bias=True)\n",
       ")"
      ]
     },
     "execution_count": 9,
     "metadata": {},
     "output_type": "execute_result"
    }
   ],
   "source": [
    "torch.manual_seed(42)\n",
    "model = ConvolutionalNetwork()\n",
    "model"
   ]
  },
  {
   "cell_type": "code",
   "execution_count": 10,
   "id": "a9db326b",
   "metadata": {},
   "outputs": [
    {
     "name": "stdout",
     "output_type": "stream",
     "text": [
      "54\n",
      "6\n",
      "864\n",
      "16\n",
      "48000\n",
      "120\n",
      "10080\n",
      "84\n",
      "840\n",
      "10\n"
     ]
    }
   ],
   "source": [
    "for param in model.parameters():\n",
    "    print(param.numel())"
   ]
  },
  {
   "cell_type": "code",
   "execution_count": 11,
   "id": "eb91b662",
   "metadata": {},
   "outputs": [],
   "source": [
    "criterion = nn.CrossEntropyLoss()\n",
    "optimizer = torch.optim.Adam(model.parameters(),lr=0.001)"
   ]
  },
  {
   "cell_type": "code",
   "execution_count": 12,
   "id": "78a2b792",
   "metadata": {},
   "outputs": [
    {
     "name": "stdout",
     "output_type": "stream",
     "text": [
      "Epoch 0  Batch:600  Loss:0.042550548911094666 Accuracy:78.48333333333333\n",
      "Epoch 0  Batch:1200  Loss:0.07605952024459839 Accuracy:85.825\n",
      "Epoch 0  Batch:1800  Loss:0.30995577573776245 Accuracy:88.66666666666667\n",
      "Epoch 0  Batch:2400  Loss:0.02016785740852356 Accuracy:90.47083333333333\n",
      "Epoch 0  Batch:3000  Loss:0.007437355816364288 Accuracy:91.63\n",
      "Epoch 0  Batch:3600  Loss:0.0012245547259226441 Accuracy:92.47222222222223\n",
      "Epoch 0  Batch:4200  Loss:0.5557299852371216 Accuracy:93.12142857142857\n",
      "Epoch 0  Batch:4800  Loss:0.0668177530169487 Accuracy:93.59166666666667\n",
      "Epoch 0  Batch:5400  Loss:0.007983753457665443 Accuracy:94.00740740740741\n",
      "Epoch 0  Batch:6000  Loss:0.0668204054236412 Accuracy:94.29666666666667\n",
      "Epoch 1  Batch:600  Loss:0.029031146317720413 Accuracy:97.91666666666667\n",
      "Epoch 1  Batch:1200  Loss:0.05128370597958565 Accuracy:97.775\n",
      "Epoch 1  Batch:1800  Loss:0.0013509824639186263 Accuracy:97.81666666666666\n",
      "Epoch 1  Batch:2400  Loss:0.01731514371931553 Accuracy:97.77083333333333\n",
      "Epoch 1  Batch:3000  Loss:0.2662854492664337 Accuracy:97.78\n",
      "Epoch 1  Batch:3600  Loss:0.00023901737586129457 Accuracy:97.82777777777778\n",
      "Epoch 1  Batch:4200  Loss:0.0006059271981939673 Accuracy:97.88333333333334\n",
      "Epoch 1  Batch:4800  Loss:0.0006372936186380684 Accuracy:97.86875\n",
      "Epoch 1  Batch:5400  Loss:0.0007654715445823967 Accuracy:97.9\n",
      "Epoch 1  Batch:6000  Loss:0.06921999901533127 Accuracy:97.89666666666666\n",
      "Epoch 2  Batch:600  Loss:0.0007090660510584712 Accuracy:98.58333333333333\n",
      "Epoch 2  Batch:1200  Loss:0.0014241785975173116 Accuracy:98.55833333333334\n",
      "Epoch 2  Batch:1800  Loss:0.0016594270709902048 Accuracy:98.46666666666667\n",
      "Epoch 2  Batch:2400  Loss:0.0019960994832217693 Accuracy:98.49583333333334\n",
      "Epoch 2  Batch:3000  Loss:0.3902277946472168 Accuracy:98.44\n",
      "Epoch 2  Batch:3600  Loss:0.10384920984506607 Accuracy:98.47777777777777\n",
      "Epoch 2  Batch:4200  Loss:0.019476449117064476 Accuracy:98.46428571428571\n",
      "Epoch 2  Batch:4800  Loss:0.0034180101938545704 Accuracy:98.48125\n",
      "Epoch 2  Batch:5400  Loss:0.00033976745908148587 Accuracy:98.47592592592592\n",
      "Epoch 2  Batch:6000  Loss:0.0001230183115694672 Accuracy:98.485\n",
      "Epoch 3  Batch:600  Loss:0.0013499873457476497 Accuracy:98.76666666666667\n",
      "Epoch 3  Batch:1200  Loss:0.000404703663662076 Accuracy:98.84166666666667\n",
      "Epoch 3  Batch:1800  Loss:0.004249260760843754 Accuracy:98.90555555555555\n",
      "Epoch 3  Batch:2400  Loss:0.0001190453622257337 Accuracy:98.8375\n",
      "Epoch 3  Batch:3000  Loss:0.07892654836177826 Accuracy:98.83333333333333\n",
      "Epoch 3  Batch:3600  Loss:0.008006837218999863 Accuracy:98.8\n",
      "Epoch 3  Batch:4200  Loss:0.0014674176927655935 Accuracy:98.81666666666666\n",
      "Epoch 3  Batch:4800  Loss:0.023946410045027733 Accuracy:98.83333333333333\n",
      "Epoch 3  Batch:5400  Loss:0.006263013929128647 Accuracy:98.82037037037037\n",
      "Epoch 3  Batch:6000  Loss:0.004347730427980423 Accuracy:98.80333333333333\n",
      "Epoch 4  Batch:600  Loss:0.0001491149014327675 Accuracy:99.18333333333334\n",
      "Epoch 4  Batch:1200  Loss:0.16656789183616638 Accuracy:99.175\n",
      "Epoch 4  Batch:1800  Loss:3.4424483601469547e-05 Accuracy:99.17222222222222\n",
      "Epoch 4  Batch:2400  Loss:9.579026664141566e-05 Accuracy:99.15416666666667\n",
      "Epoch 4  Batch:3000  Loss:0.006298425607383251 Accuracy:99.11666666666666\n",
      "Epoch 4  Batch:3600  Loss:5.372364103095606e-05 Accuracy:99.11944444444444\n",
      "Epoch 4  Batch:4200  Loss:0.0003394833765923977 Accuracy:99.11666666666666\n",
      "Epoch 4  Batch:4800  Loss:0.0023635500110685825 Accuracy:99.07291666666667\n",
      "Epoch 4  Batch:5400  Loss:2.2648851881967857e-05 Accuracy:99.05185185185185\n",
      "Epoch 4  Batch:6000  Loss:0.001969315577298403 Accuracy:99.05833333333334\n",
      "Duration: 3.850685703754425 mins\n"
     ]
    }
   ],
   "source": [
    "# TRAINING THE MODEL\n",
    "\n",
    "import time\n",
    "start_time = time.time()\n",
    "\n",
    "#TRACKERS\n",
    "epochs = 5\n",
    "train_correct = []\n",
    "test_correct = []\n",
    "train_losses = []\n",
    "test_losses = []\n",
    "\n",
    "for i in range(epochs):\n",
    "    train_corr = 0\n",
    "    test_corr = 0\n",
    "    \n",
    "    for batch,(X_train,y_train) in enumerate(train_loader):\n",
    "        batch+=1\n",
    "        \n",
    "        #apply model\n",
    "        y_pred = model(X_train)\n",
    "        loss = criterion(y_pred,y_train)\n",
    "        \n",
    "        #tally the number of right predictions\n",
    "        predicted = torch.max(y_pred.data,1)[1]\n",
    "        batch_corr = (predicted == y_train).sum()\n",
    "        train_corr += batch_corr\n",
    "        \n",
    "        optimizer.zero_grad()\n",
    "        loss.backward()\n",
    "        optimizer.step()\n",
    "        \n",
    "        if batch%600==0:\n",
    "            acc = train_corr.item()*100/(10*batch)\n",
    "            print(f'Epoch {i}  Batch:{batch}  Loss:{loss.item()} Accuracy:{acc}')\n",
    "            \n",
    "          \n",
    "    train_losses.append(loss.item())\n",
    "    train_correct.append(train_corr.item())\n",
    "        \n",
    "    with torch.no_grad():\n",
    "        for  batch,(X_test,y_test) in enumerate(test_loader):\n",
    "            \n",
    "            y_pred = model(X_test)\n",
    "            \n",
    "            predicted = torch.max(y_pred.data,1)[1]\n",
    "            test_corr += (predicted==y_test).sum()\n",
    "            \n",
    "    loss = criterion(y_pred,y_test)\n",
    "    test_losses.append(loss)\n",
    "    test_correct.append(test_corr)\n",
    "\n",
    "total_time = time.time() - start_time\n",
    "print(f'Duration: {total_time/60} mins')"
   ]
  },
  {
   "cell_type": "code",
   "execution_count": 13,
   "id": "3e3a8378",
   "metadata": {},
   "outputs": [
    {
     "data": {
      "image/png": "[encoded data removed]",
      "text/plain": [
       "<Figure size 432x288 with 1 Axes>"
      ]
     },
     "metadata": {
      "needs_background": "light"
     },
     "output_type": "display_data"
    }
   ],
   "source": [
    "plt.plot(train_losses, label='training loss')\n",
    "plt.plot(test_losses, label='validation loss')\n",
    "plt.title('Loss at the end of each epoch')\n",
    "plt.legend();"
   ]
  },
  {
   "cell_type": "code",
   "execution_count": 14,
   "id": "2e7964d9",
   "metadata": {},
   "outputs": [
    {
     "data": {
      "image/png": "[encoded data removed]",
      "text/plain": [
       "<Figure size 432x288 with 1 Axes>"
      ]
     },
     "metadata": {
      "needs_background": "light"
     },
     "output_type": "display_data"
    }
   ],
   "source": [
    "plt.plot([t/600 for t in train_correct], label='training accuracy')\n",
    "plt.plot([t/100 for t in test_correct], label='validation accuracy')\n",
    "plt.title('Accuracy at the end of each epoch')\n",
    "plt.legend();"
   ]
  },
  {
   "cell_type": "code",
   "execution_count": 15,
   "id": "6a58dca6",
   "metadata": {},
   "outputs": [
    {
     "name": "stdout",
     "output_type": "stream",
     "text": [
      "Test accuracy: 9878/10000 =  98.780%\n"
     ]
    }
   ],
   "source": [
    "#NEW UNSEEN IMAGES\n",
    "test_load_all = DataLoader(test_data, batch_size=10000, shuffle=False)\n",
    "\n",
    "with torch.no_grad():\n",
    "    correct = 0\n",
    "    for X_test, y_test in test_load_all:\n",
    "        y_val = model(X_test) \n",
    "        predicted = torch.max(y_val,1)[1]\n",
    "        correct += (predicted == y_test).sum()\n",
    "print(f'Test accuracy: {correct.item()}/{len(test_data)} = {correct.item()*100/(len(test_data)):7.3f}%')"
   ]
  },
  {
   "cell_type": "code",
   "execution_count": null,
   "id": "e8f6c63e",
   "metadata": {},
   "outputs": [],
   "source": []
  }
 ],
 "metadata": {
  "kernelspec": {
   "display_name": "Python 3 (ipykernel)",
   "language": "python",
   "name": "python3"
  },
  "language_info": {
   "codemirror_mode": {
    "name": "ipython",
    "version": 3
   },
   "file_extension": ".py",
   "mimetype": "text/x-python",
   "name": "python",
   "nbconvert_exporter": "python",
   "pygments_lexer": "ipython3",
   "version": "3.8.0"
  }
 },
 "nbformat": 4,
 "nbformat_minor": 5
}
